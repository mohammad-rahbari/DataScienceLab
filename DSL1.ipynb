{
  "nbformat": 4,
  "nbformat_minor": 0,
  "metadata": {
    "colab": {
      "provenance": []
    },
    "kernelspec": {
      "name": "python3",
      "display_name": "Python 3"
    },
    "language_info": {
      "name": "python"
    }
  },
  "cells": [
    {
      "cell_type": "code",
      "execution_count": null,
      "metadata": {
        "colab": {
          "base_uri": "https://localhost:8080/"
        },
        "id": "azqylZSQ1UyG",
        "outputId": "3425c988-1518-4a61-a547-d604290c713a"
      },
      "outputs": [
        {
          "output_type": "stream",
          "name": "stdout",
          "text": [
            "--2023-10-16 10:08:10--  https://archive.ics.uci.edu/ml/machine-learning-databases/iris/iris.data\n",
            "Resolving archive.ics.uci.edu (archive.ics.uci.edu)... 128.195.10.252\n",
            "Connecting to archive.ics.uci.edu (archive.ics.uci.edu)|128.195.10.252|:443... connected.\n",
            "HTTP request sent, awaiting response... 200 OK\n",
            "Length: unspecified\n",
            "Saving to: ‘iris.csv’\n",
            "\n",
            "iris.csv                [ <=>                ]   4.44K  --.-KB/s    in 0s      \n",
            "\n",
            "2023-10-16 10:08:10 (47.7 MB/s) - ‘iris.csv’ saved [4551]\n",
            "\n"
          ]
        }
      ],
      "source": [
        "!wget \"https://archive.ics.uci.edu/ml/machine-learning-databases/iris/iris.data\" -O iris.csv"
      ]
    },
    {
      "cell_type": "code",
      "source": [
        "!wget https://raw.githubusercontent.com/dbdmg/data-science-lab/master/datasets/mnist_test.csv"
      ],
      "metadata": {
        "colab": {
          "base_uri": "https://localhost:8080/"
        },
        "id": "0Pr0AOQi3d2v",
        "outputId": "a15512cb-771d-46f5-dc4e-75f2474d3fb7"
      },
      "execution_count": null,
      "outputs": [
        {
          "output_type": "stream",
          "name": "stdout",
          "text": [
            "--2023-10-16 09:43:09--  https://raw.githubusercontent.com/dbdmg/data-science-lab/master/datasets/mnist_test.csv\n",
            "Resolving raw.githubusercontent.com (raw.githubusercontent.com)... 185.199.111.133, 185.199.108.133, 185.199.110.133, ...\n",
            "Connecting to raw.githubusercontent.com (raw.githubusercontent.com)|185.199.111.133|:443... connected.\n",
            "HTTP request sent, awaiting response... 200 OK\n",
            "Length: 18289443 (17M) [text/plain]\n",
            "Saving to: ‘mnist_test.csv’\n",
            "\n",
            "mnist_test.csv      100%[===================>]  17.44M   116MB/s    in 0.2s    \n",
            "\n",
            "2023-10-16 09:43:09 (116 MB/s) - ‘mnist_test.csv’ saved [18289443/18289443]\n",
            "\n"
          ]
        }
      ]
    },
    {
      "cell_type": "code",
      "source": [
        "import csv\n",
        "import numpy as np"
      ],
      "metadata": {
        "id": "k_aE1QCy3uSq"
      },
      "execution_count": null,
      "outputs": []
    },
    {
      "cell_type": "code",
      "source": [
        "# iris_file = open(\"/content/iris.csv\", \"r\")\n",
        "with open(\"/content/iris.csv\") as f:\n",
        "    reader = csv.reader(f)\n",
        "    iris_data = list(reader)\n",
        "\n",
        "print(iris_data[0])\n",
        "print(iris_data[-1])\n",
        "iris_data.pop()\n",
        "# for i in range(len(iris_data)):\n",
        "#   print(f\"index:{i} number of features:{len(iris_data[i])}\")\n"
      ],
      "metadata": {
        "colab": {
          "base_uri": "https://localhost:8080/"
        },
        "id": "Bsf4sfWb34Gw",
        "outputId": "8dcd5d08-d847-4be4-fffa-4da9de219d3f"
      },
      "execution_count": null,
      "outputs": [
        {
          "output_type": "stream",
          "name": "stdout",
          "text": [
            "['5.1', '3.5', '1.4', '0.2', 'Iris-setosa']\n",
            "[]\n"
          ]
        },
        {
          "output_type": "execute_result",
          "data": {
            "text/plain": [
              "[]"
            ]
          },
          "metadata": {},
          "execution_count": 58
        }
      ]
    },
    {
      "cell_type": "code",
      "source": [
        "# iris_data\n",
        "def mean_function(lst):\n",
        "  mean = [0,0,0,0]\n",
        "\n",
        "  for i in range(len(lst)):\n",
        "    for j in range(len(mean)):\n",
        "      mean[j] += float(lst[i][j])\n",
        "\n",
        "  for i in range(len(mean)):\n",
        "    mean[i] = mean[i] / len(lst)\n",
        "  return mean\n",
        "\n"
      ],
      "metadata": {
        "id": "At26JDrU67BY"
      },
      "execution_count": null,
      "outputs": []
    },
    {
      "cell_type": "code",
      "source": [
        "def standard_deviation(lst):\n",
        "  mean = mean_function(lst)\n",
        "  sd = [0,0,0,0]\n",
        "\n",
        "  for i in range(len(lst)):\n",
        "    for j in range(len(sd)):\n",
        "\n",
        "\n",
        "      sd[j] += (float(lst[i][j]) - mean[j])**2\n",
        "\n",
        "  for i in range(len(sd)):\n",
        "    sd[i] = (sd[i]/len(lst))**0.5\n",
        "\n",
        "  return sd"
      ],
      "metadata": {
        "id": "ANf8aDKY9co4"
      },
      "execution_count": null,
      "outputs": []
    },
    {
      "cell_type": "code",
      "source": [
        "classes_dict={}\n",
        "for i in iris_data:\n",
        "  if i[-1] not in classes_dict.keys():\n",
        "    classes_dict[i[-1]] = [i[0:4]]\n",
        "  else:\n",
        "    classes_dict[i[-1]].append(i[0:4])\n",
        "\n",
        "\n",
        "print(f\"total mean:{mean_function(iris_data)}, total standard deviation: {standard_deviation(iris_data)}\")\n",
        "for i in classes_dict.keys():\n",
        "  print(f\"{i} mean:{mean_function(classes_dict[i])}, {i} standard deviation: {standard_deviation(classes_dict[i])}\")\n",
        "\n",
        "\n"
      ],
      "metadata": {
        "colab": {
          "base_uri": "https://localhost:8080/"
        },
        "id": "8ktZvqgC-Zxx",
        "outputId": "c497b344-16ad-499e-e080-60236d8325ad"
      },
      "execution_count": null,
      "outputs": [
        {
          "output_type": "stream",
          "name": "stdout",
          "text": [
            "total mean:[5.843333333333335, 3.0540000000000007, 3.7586666666666693, 1.1986666666666672], total standard deviation: [0.8253012917851409, 0.4321465800705435, 1.7585291834055201, 0.760612618588172]\n",
            "Iris-setosa mean:[5.005999999999999, 3.4180000000000006, 1.464, 0.2439999999999999], Iris-setosa standard deviation: [0.348946987377739, 0.37719490982779713, 0.17176728442867115, 0.10613199329137278]\n",
            "Iris-versicolor mean:[5.936, 2.7700000000000005, 4.26, 1.3259999999999998], Iris-versicolor standard deviation: [0.5109833656783752, 0.31064449134018135, 0.4651881339845204, 0.19576516544063702]\n",
            "Iris-virginica mean:[6.587999999999998, 2.9739999999999998, 5.552, 2.026], Iris-virginica standard deviation: [0.6294886813914925, 0.319255383666431, 0.5463478745268441, 0.2718896835115301]\n"
          ]
        }
      ]
    },
    {
      "cell_type": "markdown",
      "source": [
        "## **++++++++++++++++++++++++++++++++++++++++++++++++++++++++++++++++++**"
      ],
      "metadata": {
        "id": "FPNDwR89CFug"
      }
    },
    {
      "cell_type": "code",
      "source": [
        "import requests\n",
        "import json\n",
        "url = 'http://api.citybik.es/v2/networks/to-bike'\n",
        "r = requests.get(url)\n",
        "print(json.loads(r.content))\n",
        "citybik = json.loads(r.content)"
      ],
      "metadata": {
        "colab": {
          "base_uri": "https://localhost:8080/"
        },
        "id": "lWPHOZ0FCKfr",
        "outputId": "99c076dd-1f79-48db-975a-6624707f38b4"
      },
      "execution_count": null,
      "outputs": [
        {
          "output_type": "stream",
          "name": "stdout",
          "text": [
            "{'network': {'company': ['Comunicare S.r.l.'], 'href': '/v2/networks/to-bike', 'id': 'to-bike', 'location': {'city': 'Torino', 'country': 'IT', 'latitude': 45.07098200000001, 'longitude': 7.685676}, 'name': '[TO]BIKE', 'source': 'http://www.tobike.it/frmLeStazioni.aspx?ID=22', 'stations': [{'empty_slots': 3, 'extra': {'number': 1, 'reviews': 72, 'score': 4.0, 'status': 'offline', 'uid': '537'}, 'free_bikes': 5, 'id': 'f01c3eb11d001cdeb048c5153d2312ae', 'latitude': 45.04440354326403, 'longitude': 7.617623805999756, 'name': '01. Gerbido', 'timestamp': '2023-10-16T10:23:45.418000Z'}, {'empty_slots': 3, 'extra': {'number': 2, 'reviews': 26, 'score': 3.4, 'status': 'offline', 'uid': '538'}, 'free_bikes': 5, 'id': 'bc312c77398b36b68dcc11a936231be8', 'latitude': 45.067519551794994, 'longitude': 7.563056945800781, 'name': '02. Fabbrichetta', 'timestamp': '2023-10-16T10:23:45.418000Z'}, {'empty_slots': 3, 'extra': {'number': 3, 'reviews': 28, 'score': 3.9, 'status': 'offline', 'uid': '539'}, 'free_bikes': 5, 'id': 'd5b824f8f0b24055820952cae13d8eb6', 'latitude': 45.056364402185814, 'longitude': 7.580995559692383, 'name': '03. Borgo', 'timestamp': '2023-10-16T10:23:45.418000Z'}, {'empty_slots': 3, 'extra': {'number': 4, 'reviews': 112, 'score': 4.2, 'status': 'offline', 'uid': '540'}, 'free_bikes': 5, 'id': 'efb9906681ca572faa6c528c55856187', 'latitude': 45.06171490180712, 'longitude': 7.581188678741455, 'name': '04. Villa Claretta', 'timestamp': '2023-10-16T10:23:45.418000Z'}, {'empty_slots': 3, 'extra': {'number': 5, 'reviews': 44, 'score': 1.2, 'status': 'offline', 'uid': '541'}, 'free_bikes': 5, 'id': '6ada4564cfb797b8829b59ec7742e2ed', 'latitude': 45.06479159126726, 'longitude': 7.588076591491699, 'name': '05. Universita`', 'timestamp': '2023-10-16T10:23:45.418000Z'}, {'empty_slots': 3, 'extra': {'number': 6, 'reviews': 32, 'score': 3.2, 'status': 'offline', 'uid': '542'}, 'free_bikes': 5, 'id': 'd38e65d832c8d32a5e9d6547144e35f5', 'latitude': 45.063139596328625, 'longitude': 7.576832771301269, 'name': '06. Le Serre', 'timestamp': '2023-10-16T10:23:45.418000Z'}, {'empty_slots': 3, 'extra': {'number': 7, 'reviews': 23, 'score': 2.5, 'status': 'offline', 'uid': '543'}, 'free_bikes': 5, 'id': 'ffd596ecd472bfa10fd38a9685f17c8c', 'latitude': 45.06829245027643, 'longitude': 7.599577903747559, 'name': '07. Stazione Ferroviaria Paradiso', 'timestamp': '2023-10-16T10:23:45.418000Z'}, {'empty_slots': 3, 'extra': {'number': 8, 'reviews': 4, 'score': 3.5, 'status': 'offline', 'uid': '1186'}, 'free_bikes': 5, 'id': '22743c60546a6b5713094662d6940f4e', 'latitude': 45.06566411992803, 'longitude': 7.579057797622681, 'name': '08. Lupo', 'timestamp': '2023-10-16T10:23:45.418000Z'}, {'empty_slots': 3, 'extra': {'number': 1, 'reviews': 28, 'score': 3.0, 'status': 'offline', 'uid': '529'}, 'free_bikes': 5, 'id': '8c12fcd7311c98e9a948af38caa4d051', 'latitude': 45.084126990755045, 'longitude': 7.575631141662598, 'name': '01. Certosa / P.le Avis', 'timestamp': '2023-10-16T10:23:45.447000Z'}, {'empty_slots': 3, 'extra': {'number': 4, 'reviews': 87, 'score': 3.0, 'status': 'offline', 'uid': '532'}, 'free_bikes': 5, 'id': 'c50124e7cca913343a6cbeba5e4b6cdb', 'latitude': 45.07373275368509, 'longitude': 7.601809501647949, 'name': '04. Metro Paradiso', 'timestamp': '2023-10-16T10:23:45.447000Z'}, {'empty_slots': 3, 'extra': {'number': 5, 'reviews': 11, 'score': 4.0, 'status': 'offline', 'uid': '533'}, 'free_bikes': 5, 'id': '8fa4807880ed26b205517a071dca0c21', 'latitude': 45.115722339702245, 'longitude': 7.613739967346191, 'name': '05. Savonera', 'timestamp': '2023-10-16T10:23:45.447000Z'}, {'empty_slots': 3, 'extra': {'number': 7, 'reviews': 15, 'score': 2.8, 'status': 'offline', 'uid': '535'}, 'free_bikes': 5, 'id': 'f1d7621c4f2b581dc95871181eaddf7f', 'latitude': 45.07894526052452, 'longitude': 7.574386596679687, 'name': '07. Stazione F.S.', 'timestamp': '2023-10-16T10:23:45.447000Z'}, {'empty_slots': 3, 'extra': {'number': 8, 'reviews': 34, 'score': 1.4, 'status': 'offline', 'uid': '536'}, 'free_bikes': 5, 'id': 'f721695d488b071d3df077eb4a9d50bf', 'latitude': 45.07270231814184, 'longitude': 7.58030891418457, 'name': '08. Gramsci', 'timestamp': '2023-10-16T10:23:45.447000Z'}, {'empty_slots': 0, 'extra': {'number': 1, 'reviews': 35, 'score': 3.8, 'status': 'online', 'uid': '583'}, 'free_bikes': 0, 'id': 'e8242fb035991ef3d83e93fb3b6fa97b', 'latitude': 45.116903418249365, 'longitude': 7.62300968170166, 'name': '01. Concordia', 'timestamp': '2023-10-16T10:23:45.478000Z'}, {'empty_slots': 3, 'extra': {'number': 2, 'reviews': 14, 'score': 4.3, 'status': 'online', 'uid': '584'}, 'free_bikes': 0, 'id': 'bc2f3dac64e76a022c2869659614a6f5', 'latitude': 45.129893668868284, 'longitude': 7.631292343139648, 'name': '02. Pettiti', 'timestamp': '2023-10-16T10:23:45.478000Z'}, {'empty_slots': 3, 'extra': {'number': 3, 'reviews': 15, 'score': 3.9, 'status': 'online', 'uid': '585'}, 'free_bikes': 2, 'id': 'aeb1bf0a60459898301e9f798dbc17b7', 'latitude': 45.12418619577999, 'longitude': 7.632043361663818, 'name': '03. C. Commerciale I Portici', 'timestamp': '2023-10-16T10:23:45.478000Z'}, {'empty_slots': 6, 'extra': {'number': 5, 'reviews': 13, 'score': 4.2, 'status': 'online', 'uid': '587'}, 'free_bikes': 1, 'id': '0c7ddac244be98e27b3249521685e480', 'latitude': 45.127804527473224, 'longitude': 7.635798454284668, 'name': '05. Corso Garibaldi', 'timestamp': '2023-10-16T10:23:45.478000Z'}, {'empty_slots': 5, 'extra': {'number': 7, 'reviews': 20, 'score': 3.0, 'status': 'online', 'uid': '589'}, 'free_bikes': 0, 'id': 'a4792b55af4c2ed4730f24207b924ead', 'latitude': 45.125836425730945, 'longitude': 7.642192840576172, 'name': '07. Buozzi', 'timestamp': '2023-10-16T10:23:45.478000Z'}, {'empty_slots': 2, 'extra': {'number': 8, 'reviews': 10, 'score': 4.1, 'status': 'online', 'uid': '590'}, 'free_bikes': 2, 'id': '99d05089c79ad0acfd5d3acecaf2cd83', 'latitude': 45.12489776867726, 'longitude': 7.65296459197998, 'name': '08. San Marchese', 'timestamp': '2023-10-16T10:23:45.478000Z'}, {'empty_slots': 4, 'extra': {'number': 10, 'reviews': 40, 'score': 4.5, 'status': 'online', 'uid': '592'}, 'free_bikes': 0, 'id': 'f16cba9c6dc917e833eab7bf3e0168b7', 'latitude': 45.114828943536864, 'longitude': 7.641313076019287, 'name': '10. Gallo Praile', 'timestamp': '2023-10-16T10:23:45.478000Z'}, {'empty_slots': 3, 'extra': {'number': 2, 'reviews': 11, 'score': 3.0, 'status': 'offline', 'uid': '593'}, 'free_bikes': 5, 'id': 'd6806ba5784a0d60f24f380a9b09a1cb', 'latitude': 45.099654215224064, 'longitude': 7.531235218048096, 'name': '02. Berlinguer', 'timestamp': '2023-10-16T10:23:45.509000Z'}, {'empty_slots': 3, 'extra': {'number': 1, 'reviews': 16, 'score': 2.1, 'status': 'offline', 'uid': '594'}, 'free_bikes': 5, 'id': '0df8838da4cf2ffe0eaf28629b902dd7', 'latitude': 45.094383006473215, 'longitude': 7.524325847625732, 'name': '01. Municipio', 'timestamp': '2023-10-16T10:23:45.509000Z'}, {'empty_slots': 3, 'extra': {'number': 1, 'reviews': 20, 'score': 2.8, 'status': 'offline', 'uid': '595'}, 'free_bikes': 5, 'id': '8bca5f91b24693d216f576525e7c1647', 'latitude': 45.136100086850355, 'longitude': 7.576360702514648, 'name': '01. Largo Oropa', 'timestamp': '2023-10-16T10:23:45.538000Z'}, {'empty_slots': 3, 'extra': {'number': 2, 'reviews': 1, 'score': 1.0, 'status': 'online', 'uid': '1563'}, 'free_bikes': 5, 'id': 'd55bde750a05150e2bd91d020a5a743e', 'latitude': 45.134345, 'longitude': 7.576462, 'name': '02. BIKE POINT Mandria', 'timestamp': '2023-10-16T10:23:45.538000Z'}, {'empty_slots': 3, 'extra': {'number': 9, 'reviews': 29, 'score': 4.7, 'status': 'offline', 'uid': '591'}, 'free_bikes': 5, 'id': 'dff9f20a6eb38d6a666eccb3cff13fd8', 'latitude': 45.120052841530544, 'longitude': 7.648565769195557, 'name': '09. Rigola', 'timestamp': '2023-10-16T10:23:45.478000Z'}, {'empty_slots': 5, 'extra': {'number': 4, 'reviews': 24, 'score': 4.2, 'status': 'online', 'uid': '586'}, 'free_bikes': 1, 'id': 'e6642b43e6d4732fcd596eef9dc4c931', 'latitude': 45.13563084470412, 'longitude': 7.625724077224732, 'name': '04. Reggia', 'timestamp': '2023-10-16T10:23:45.478000Z'}, {'empty_slots': 10, 'extra': {'number': 6, 'reviews': 37, 'score': 4.2, 'status': 'online', 'uid': '588'}, 'free_bikes': 3, 'id': 'c152199d3e16721e1f430de89ffff5eb', 'latitude': 45.13300074668823, 'longitude': 7.632789015769959, 'name': '06. Municipio', 'timestamp': '2023-10-16T10:23:45.478000Z'}, {'empty_slots': 3, 'extra': {'number': 10, 'reviews': 5, 'score': 2.5, 'status': 'offline', 'uid': '1185'}, 'free_bikes': 5, 'id': '8d5cc1c49d81c66760c500a922d80b5c', 'latitude': 45.09064418309555, 'longitude': 7.570132452917505, 'name': '10. Europa Unita', 'timestamp': '2023-10-16T10:23:45.447000Z'}]}}\n"
          ]
        }
      ]
    },
    {
      "cell_type": "code",
      "source": [
        "count = 0\n",
        "for i in citybik[\"network\"][\"stations\"]:\n",
        "  if i[\"extra\"][\"status\"]== \"online\" :\n",
        "    count += 1\n",
        "print(count)\n"
      ],
      "metadata": {
        "colab": {
          "base_uri": "https://localhost:8080/"
        },
        "id": "spQ-X3ZnCjS6",
        "outputId": "c793fb84-6d59-479c-b2e1-3bc5b2fb2d3c"
      },
      "execution_count": null,
      "outputs": [
        {
          "output_type": "stream",
          "name": "stdout",
          "text": [
            "10\n"
          ]
        }
      ]
    },
    {
      "cell_type": "code",
      "source": [
        "free_bikes_counter = 0\n",
        "empty_slots_counter = 0\n",
        "\n",
        "for i in citybik[\"network\"][\"stations\"]:\n",
        "  # if i[\"extra\"][\"status\"]== \"online\" :\n",
        "  free_bikes_counter +=  i[\"free_bikes\"]\n",
        "  empty_slots_counter += i[\"empty_slots\"]\n",
        "print(f\"Number of bikes available: {free_bikes_counter}, Number of free docks {empty_slots_counter}\")\n"
      ],
      "metadata": {
        "colab": {
          "base_uri": "https://localhost:8080/"
        },
        "id": "miTcuFAIDzNU",
        "outputId": "1ca071a8-159e-4d64-92c6-e9c089e078e2"
      },
      "execution_count": null,
      "outputs": [
        {
          "output_type": "stream",
          "name": "stdout",
          "text": [
            "Number of bikes available: 104, Number of free docks 95\n"
          ]
        }
      ]
    },
    {
      "cell_type": "markdown",
      "source": [
        "# **++++++++++++++++++++++++++++++++++++++++++++++++++++++++++++++++++++++++++++++++**"
      ],
      "metadata": {
        "id": "IFfKY-oFExG5"
      }
    },
    {
      "cell_type": "code",
      "source": [
        "with open(\"/content/mnist_test.csv\") as f:\n",
        "    reader = csv.reader(f)\n",
        "    mnist_data = list(reader)\n",
        "print(mnist_data[0])"
      ],
      "metadata": {
        "colab": {
          "base_uri": "https://localhost:8080/"
        },
        "id": "quxWcdXkE1Go",
        "outputId": "8bafa1d0-908f-4db6-ef40-d29275d57bbb"
      },
      "execution_count": null,
      "outputs": [
        {
          "output_type": "stream",
          "name": "stdout",
          "text": [
            "['7', '0', '0', '0', '0', '0', '0', '0', '0', '0', '0', '0', '0', '0', '0', '0', '0', '0', '0', '0', '0', '0', '0', '0', '0', '0', '0', '0', '0', '0', '0', '0', '0', '0', '0', '0', '0', '0', '0', '0', '0', '0', '0', '0', '0', '0', '0', '0', '0', '0', '0', '0', '0', '0', '0', '0', '0', '0', '0', '0', '0', '0', '0', '0', '0', '0', '0', '0', '0', '0', '0', '0', '0', '0', '0', '0', '0', '0', '0', '0', '0', '0', '0', '0', '0', '0', '0', '0', '0', '0', '0', '0', '0', '0', '0', '0', '0', '0', '0', '0', '0', '0', '0', '0', '0', '0', '0', '0', '0', '0', '0', '0', '0', '0', '0', '0', '0', '0', '0', '0', '0', '0', '0', '0', '0', '0', '0', '0', '0', '0', '0', '0', '0', '0', '0', '0', '0', '0', '0', '0', '0', '0', '0', '0', '0', '0', '0', '0', '0', '0', '0', '0', '0', '0', '0', '0', '0', '0', '0', '0', '0', '0', '0', '0', '0', '0', '0', '0', '0', '0', '0', '0', '0', '0', '0', '0', '0', '0', '0', '0', '0', '0', '0', '0', '0', '0', '0', '0', '0', '0', '0', '0', '0', '0', '0', '0', '0', '0', '0', '0', '0', '0', '0', '84', '185', '159', '151', '60', '36', '0', '0', '0', '0', '0', '0', '0', '0', '0', '0', '0', '0', '0', '0', '0', '0', '0', '0', '0', '0', '0', '0', '222', '254', '254', '254', '254', '241', '198', '198', '198', '198', '198', '198', '198', '198', '170', '52', '0', '0', '0', '0', '0', '0', '0', '0', '0', '0', '0', '0', '67', '114', '72', '114', '163', '227', '254', '225', '254', '254', '254', '250', '229', '254', '254', '140', '0', '0', '0', '0', '0', '0', '0', '0', '0', '0', '0', '0', '0', '0', '0', '0', '0', '17', '66', '14', '67', '67', '67', '59', '21', '236', '254', '106', '0', '0', '0', '0', '0', '0', '0', '0', '0', '0', '0', '0', '0', '0', '0', '0', '0', '0', '0', '0', '0', '0', '0', '0', '83', '253', '209', '18', '0', '0', '0', '0', '0', '0', '0', '0', '0', '0', '0', '0', '0', '0', '0', '0', '0', '0', '0', '0', '0', '0', '0', '22', '233', '255', '83', '0', '0', '0', '0', '0', '0', '0', '0', '0', '0', '0', '0', '0', '0', '0', '0', '0', '0', '0', '0', '0', '0', '0', '0', '129', '254', '238', '44', '0', '0', '0', '0', '0', '0', '0', '0', '0', '0', '0', '0', '0', '0', '0', '0', '0', '0', '0', '0', '0', '0', '0', '59', '249', '254', '62', '0', '0', '0', '0', '0', '0', '0', '0', '0', '0', '0', '0', '0', '0', '0', '0', '0', '0', '0', '0', '0', '0', '0', '0', '133', '254', '187', '5', '0', '0', '0', '0', '0', '0', '0', '0', '0', '0', '0', '0', '0', '0', '0', '0', '0', '0', '0', '0', '0', '0', '0', '9', '205', '248', '58', '0', '0', '0', '0', '0', '0', '0', '0', '0', '0', '0', '0', '0', '0', '0', '0', '0', '0', '0', '0', '0', '0', '0', '0', '126', '254', '182', '0', '0', '0', '0', '0', '0', '0', '0', '0', '0', '0', '0', '0', '0', '0', '0', '0', '0', '0', '0', '0', '0', '0', '0', '75', '251', '240', '57', '0', '0', '0', '0', '0', '0', '0', '0', '0', '0', '0', '0', '0', '0', '0', '0', '0', '0', '0', '0', '0', '0', '0', '19', '221', '254', '166', '0', '0', '0', '0', '0', '0', '0', '0', '0', '0', '0', '0', '0', '0', '0', '0', '0', '0', '0', '0', '0', '0', '0', '3', '203', '254', '219', '35', '0', '0', '0', '0', '0', '0', '0', '0', '0', '0', '0', '0', '0', '0', '0', '0', '0', '0', '0', '0', '0', '0', '0', '38', '254', '254', '77', '0', '0', '0', '0', '0', '0', '0', '0', '0', '0', '0', '0', '0', '0', '0', '0', '0', '0', '0', '0', '0', '0', '0', '31', '224', '254', '115', '1', '0', '0', '0', '0', '0', '0', '0', '0', '0', '0', '0', '0', '0', '0', '0', '0', '0', '0', '0', '0', '0', '0', '0', '133', '254', '254', '52', '0', '0', '0', '0', '0', '0', '0', '0', '0', '0', '0', '0', '0', '0', '0', '0', '0', '0', '0', '0', '0', '0', '0', '61', '242', '254', '254', '52', '0', '0', '0', '0', '0', '0', '0', '0', '0', '0', '0', '0', '0', '0', '0', '0', '0', '0', '0', '0', '0', '0', '0', '121', '254', '254', '219', '40', '0', '0', '0', '0', '0', '0', '0', '0', '0', '0', '0', '0', '0', '0', '0', '0', '0', '0', '0', '0', '0', '0', '0', '121', '254', '207', '18', '0', '0', '0', '0', '0', '0', '0', '0', '0', '0', '0', '0', '0', '0', '0', '0', '0', '0', '0', '0', '0', '0', '0', '0', '0', '0', '0', '0', '0', '0', '0', '0', '0', '0', '0', '0', '0', '0', '0', '0', '0', '0']\n"
          ]
        }
      ]
    },
    {
      "cell_type": "code",
      "source": [
        "def pixle(index):\n",
        "  element = mnist_data[index]\n",
        "  line = \"\"\n",
        "  for i in range(len(element)):\n",
        "    if i % 28 == 0 :\n",
        "      print(line)\n",
        "      line = \"\"\n",
        "    if 0<=int(element[i])<64:\n",
        "      line +=\" \"\n",
        "    elif 64<=int(element[i])<128:\n",
        "      line += \".\"\n",
        "    elif 128<=int(element[i])<192:\n",
        "      line += \"*\"\n",
        "    elif 192<=int(element[i])<256:\n",
        "      line += \"#\"\n",
        "\n",
        "pixle(1)"
      ],
      "metadata": {
        "colab": {
          "base_uri": "https://localhost:8080/"
        },
        "id": "rI5w6z_uFYWw",
        "outputId": "06794a40-8ce0-498e-f78b-276af2701cbd"
      },
      "execution_count": null,
      "outputs": [
        {
          "output_type": "stream",
          "name": "stdout",
          "text": [
            "\n",
            "                            \n",
            "                            \n",
            "                            \n",
            "           ..*##*.          \n",
            "          *#######          \n",
            "         *####**##.         \n",
            "         ###    ##*         \n",
            "        .##    .##.         \n",
            "               ###.         \n",
            "              .###          \n",
            "             .###           \n",
            "             *##*           \n",
            "            *##*            \n",
            "            ###             \n",
            "           ###*             \n",
            "          .##*              \n",
            "          ###*              \n",
            "         *##*               \n",
            "         ###                \n",
            "         ###           **** \n",
            "         ########***#######.\n",
            "         *##############*.. \n",
            "          ....*###*..       \n",
            "                            \n",
            "                            \n",
            "                            \n",
            "                            \n",
            "                            \n"
          ]
        }
      ]
    },
    {
      "cell_type": "code",
      "source": [
        "def euclidean_distance(index1, index2):\n",
        "  element1 = mnist_data[index1-1]\n",
        "  element2 = mnist_data[index2-1]\n",
        "\n",
        "  temp = 0\n",
        "  for i in range(len(element1)):\n",
        "    temp += (int(element1[i]) - int(element2[i]))**2\n",
        "\n",
        "  result = temp ** 0.5\n",
        "  print(f\"Euclidean distance of {index1} and {index2}: {result}\")\n",
        "\n",
        "\n",
        "position_lst = [26,30,32,35]\n",
        "\n",
        "for i in range(len(position_lst)):\n",
        "  for j in range(i,len(position_lst)):\n",
        "    if position_lst[i] != position_lst[j] :\n",
        "      euclidean_distance(position_lst[i],position_lst[j])"
      ],
      "metadata": {
        "colab": {
          "base_uri": "https://localhost:8080/"
        },
        "id": "C0TWtt9HIPwc",
        "outputId": "ba99aa14-af88-4e50-b30d-2da662dc3bbe"
      },
      "execution_count": null,
      "outputs": [
        {
          "output_type": "stream",
          "name": "stdout",
          "text": [
            "Euclidean distance of 26 and 30: 3539.2233611344736\n",
            "Euclidean distance of 26 and 32: 3556.420110166964\n",
            "Euclidean distance of 26 and 35: 3223.2145445191823\n",
            "Euclidean distance of 30 and 32: 1171.8293391104355\n",
            "Euclidean distance of 30 and 35: 2531.010470148237\n",
            "Euclidean distance of 32 and 35: 2515.5671328748117\n"
          ]
        }
      ]
    }
  ]
}